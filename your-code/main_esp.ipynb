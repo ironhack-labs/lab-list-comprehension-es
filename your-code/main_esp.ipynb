{
 "cells": [
  {
   "cell_type": "markdown",
   "metadata": {},
   "source": [
    "# List Comprehensions\n",
    "\n",
    "Completa el siguiente conjunto de ejercicios para solidificar tu conocimiento sobre las comprensiones de lista."
   ]
  },
  {
   "cell_type": "code",
   "execution_count": null,
   "metadata": {},
   "outputs": [],
   "source": [
    "import os"
   ]
  },
  {
   "cell_type": "markdown",
   "metadata": {},
   "source": [
    "#### 1. Usa una list comprehension para crear e imprimir una lista de enteros consecutivos que comience con 1 y termine con 50."
   ]
  },
  {
   "cell_type": "code",
   "execution_count": 5,
   "metadata": {},
   "outputs": [
    {
     "name": "stdout",
     "output_type": "stream",
     "text": [
      "[1, 2, 3, 4, 5, 6, 7, 8, 9, 10, 11, 12, 13, 14, 15, 16, 17, 18, 19, 20, 21, 22, 23, 24, 25, 26, 27, 28, 29, 30, 31, 32, 33, 34, 35, 36, 37, 38, 39, 40, 41, 42, 43, 44, 45, 46, 47, 48, 49, 50]\n"
     ]
    }
   ],
   "source": [
    "# tu solución aquí\n",
    "list_numbers = [number for number in range(1, 51)]\n",
    "print (list_numbers)"
   ]
  },
  {
   "cell_type": "markdown",
   "metadata": {},
   "source": [
    "#### 2. Usa una list comprehension para crear y imprimir una lista de numeros pares entre 2 y 200."
   ]
  },
  {
   "cell_type": "code",
   "execution_count": 19,
   "metadata": {},
   "outputs": [
    {
     "data": {
      "text/plain": [
       "[2,\n",
       " 4,\n",
       " 6,\n",
       " 8,\n",
       " 10,\n",
       " 12,\n",
       " 14,\n",
       " 16,\n",
       " 18,\n",
       " 20,\n",
       " 22,\n",
       " 24,\n",
       " 26,\n",
       " 28,\n",
       " 30,\n",
       " 32,\n",
       " 34,\n",
       " 36,\n",
       " 38,\n",
       " 40,\n",
       " 42,\n",
       " 44,\n",
       " 46,\n",
       " 48,\n",
       " 50,\n",
       " 52,\n",
       " 54,\n",
       " 56,\n",
       " 58,\n",
       " 60,\n",
       " 62,\n",
       " 64,\n",
       " 66,\n",
       " 68,\n",
       " 70,\n",
       " 72,\n",
       " 74,\n",
       " 76,\n",
       " 78,\n",
       " 80,\n",
       " 82,\n",
       " 84,\n",
       " 86,\n",
       " 88,\n",
       " 90,\n",
       " 92,\n",
       " 94,\n",
       " 96,\n",
       " 98,\n",
       " 100,\n",
       " 102,\n",
       " 104,\n",
       " 106,\n",
       " 108,\n",
       " 110,\n",
       " 112,\n",
       " 114,\n",
       " 116,\n",
       " 118,\n",
       " 120,\n",
       " 122,\n",
       " 124,\n",
       " 126,\n",
       " 128,\n",
       " 130,\n",
       " 132,\n",
       " 134,\n",
       " 136,\n",
       " 138,\n",
       " 140,\n",
       " 142,\n",
       " 144,\n",
       " 146,\n",
       " 148,\n",
       " 150,\n",
       " 152,\n",
       " 154,\n",
       " 156,\n",
       " 158,\n",
       " 160,\n",
       " 162,\n",
       " 164,\n",
       " 166,\n",
       " 168,\n",
       " 170,\n",
       " 172,\n",
       " 174,\n",
       " 176,\n",
       " 178,\n",
       " 180,\n",
       " 182,\n",
       " 184,\n",
       " 186,\n",
       " 188,\n",
       " 190,\n",
       " 192,\n",
       " 194,\n",
       " 196,\n",
       " 198,\n",
       " 200]"
      ]
     },
     "execution_count": 19,
     "metadata": {},
     "output_type": "execute_result"
    }
   ],
   "source": [
    "# tu solución aquí    \n",
    "list_numbers2 = [numbers2 for numbers2 in range(2, 201) if numbers2%2 == 0]\n",
    "list_numbers2"
   ]
  },
  {
   "cell_type": "markdown",
   "metadata": {},
   "source": [
    "#### 3. Usa una comprensión de lista para crear e imprimir una lista que contenga todos los elementos del siguiente array de 10 x 4."
   ]
  },
  {
   "cell_type": "code",
   "execution_count": 25,
   "metadata": {},
   "outputs": [],
   "source": [
    "a = [[0.84062117, 0.48006452, 0.7876326 , 0.77109654],\n",
    "       [0.44409793, 0.09014516, 0.81835917, 0.87645456],\n",
    "       [0.7066597 , 0.09610873, 0.41247947, 0.57433389],\n",
    "       [0.29960807, 0.42315023, 0.34452557, 0.4751035 ],\n",
    "       [0.17003563, 0.46843998, 0.92796258, 0.69814654],\n",
    "       [0.41290051, 0.19561071, 0.16284783, 0.97016248],\n",
    "       [0.71725408, 0.87702738, 0.31244595, 0.76615487],\n",
    "       [0.20754036, 0.57871812, 0.07214068, 0.40356048],\n",
    "       [0.12149553, 0.53222417, 0.9976855 , 0.12536346],\n",
    "       [0.80930099, 0.50962849, 0.94555126, 0.33364763]];"
   ]
  },
  {
   "cell_type": "code",
   "execution_count": 39,
   "metadata": {},
   "outputs": [
    {
     "name": "stdout",
     "output_type": "stream",
     "text": [
      "[0.84062117, 0.48006452, 0.7876326, 0.77109654, 0.44409793, 0.09014516, 0.81835917, 0.87645456, 0.7066597, 0.09610873, 0.41247947, 0.57433389, 0.29960807, 0.42315023, 0.34452557, 0.4751035, 0.17003563, 0.46843998, 0.92796258, 0.69814654, 0.41290051, 0.19561071, 0.16284783, 0.97016248, 0.71725408, 0.87702738, 0.31244595, 0.76615487, 0.20754036, 0.57871812, 0.07214068, 0.40356048, 0.12149553, 0.53222417, 0.9976855, 0.12536346, 0.80930099, 0.50962849, 0.94555126, 0.33364763]\n",
      "40\n"
     ]
    }
   ],
   "source": [
    "# tu solución aquí\n",
    "flatlist = [j for k in a for j in k]\n",
    "print (flatlist)\n",
    "print (len(flatlist))"
   ]
  },
  {
   "cell_type": "markdown",
   "metadata": {},
   "source": [
    "#### 4. Añade una condición a la comprensión de lista anterior para que solo se impriman los valores mayores o iguales a 0.5."
   ]
  },
  {
   "cell_type": "code",
   "execution_count": 141,
   "metadata": {},
   "outputs": [
    {
     "name": "stdout",
     "output_type": "stream",
     "text": [
      "[0.84062117, 0.7876326, 0.77109654, 0.81835917, 0.87645456, 0.7066597, 0.57433389, 0.92796258, 0.69814654, 0.97016248, 0.71725408, 0.87702738, 0.76615487, 0.57871812, 0.53222417, 0.9976855, 0.80930099, 0.50962849, 0.94555126]\n",
      "19\n"
     ]
    }
   ],
   "source": [
    "# tu solución aquí\n",
    "flatlist2 = [j for k in a for j in k if j >= 0.5]\n",
    "print (flatlist2)\n",
    "print (len(flatlist2))"
   ]
  },
  {
   "cell_type": "markdown",
   "metadata": {},
   "source": [
    "#### 5. Usa una comprensión de lista para crear e imprimir una lista que contenga todos los elementos del siguiente array de 5 x 2 x 3."
   ]
  },
  {
   "cell_type": "code",
   "execution_count": 143,
   "metadata": {},
   "outputs": [],
   "source": [
    "b = [[[0.55867166, 0.06210792, 0.08147297],\n",
    "        [0.82579068, 0.91512478, 0.06833034]],\n",
    "\n",
    "       [[0.05440634, 0.65857693, 0.30296619],\n",
    "        [0.06769833, 0.96031863, 0.51293743]],\n",
    "\n",
    "       [[0.09143215, 0.71893382, 0.45850679],\n",
    "        [0.58256464, 0.59005654, 0.56266457]],\n",
    "\n",
    "       [[0.71600294, 0.87392666, 0.11434044],\n",
    "        [0.8694668 , 0.65669313, 0.10708681]],\n",
    "\n",
    "       [[0.07529684, 0.46470767, 0.47984544],\n",
    "        [0.65368638, 0.14901286, 0.23760688]]];"
   ]
  },
  {
   "cell_type": "code",
   "execution_count": 145,
   "metadata": {},
   "outputs": [
    {
     "name": "stdout",
     "output_type": "stream",
     "text": [
      "[0.55867166, 0.06210792, 0.08147297, 0.82579068, 0.91512478, 0.06833034, 0.05440634, 0.65857693, 0.30296619, 0.06769833, 0.96031863, 0.51293743, 0.09143215, 0.71893382, 0.45850679, 0.58256464, 0.59005654, 0.56266457, 0.71600294, 0.87392666, 0.11434044, 0.8694668, 0.65669313, 0.10708681, 0.07529684, 0.46470767, 0.47984544, 0.65368638, 0.14901286, 0.23760688]\n",
      "30\n"
     ]
    }
   ],
   "source": [
    "# tu solución aquí\n",
    "flatlist3 = [v for x in b for y in x for v in y]\n",
    "print(flatlist3)\n",
    "print (len(flatlist3))"
   ]
  },
  {
   "cell_type": "markdown",
   "metadata": {},
   "source": [
    "#### 6. Añade una condición a la comprensión de lista anterior para que se imprima el último valor en cada subarray, pero solo si es menor o igual a 0.5."
   ]
  },
  {
   "cell_type": "code",
   "execution_count": 147,
   "metadata": {
    "scrolled": true
   },
   "outputs": [
    {
     "name": "stdout",
     "output_type": "stream",
     "text": [
      "[0.08147297, 0.06833034, 0.30296619, 0.45850679, 0.11434044, 0.10708681, 0.47984544, 0.23760688]\n",
      "8\n"
     ]
    }
   ],
   "source": [
    "# tu solución aquí\n",
    "flatlist4 = [n[2] for o in b for n in o if n[2] <= 0.5]\n",
    "print(flatlist4)\n",
    "print (len(flatlist4))"
   ]
  },
  {
   "cell_type": "markdown",
   "metadata": {},
   "source": [
    "### Bonus\n",
    "\n",
    "Intenta resolver estas katas usando comprensiones de listas.\n",
    "\n",
    "**Fácil**\n",
    "- [Insertar valores](https://www.codewars.com/kata/invert-values)\n",
    "- [Suma Cuadrado(n)](https://www.codewars.com/kata/square-n-sum)\n",
    "- [Digitalizar](https://www.codewars.com/kata/digitize)\n",
    "- [Filtrado de listas](https://www.codewars.com/kata/list-filtering)\n",
    "- [Lista aritmética](https://www.codewars.com/kata/541da001259d9ca85d000688)\n",
    "\n",
    "**Medio**\n",
    "- [Múltiplos de 3 o 5](https://www.codewars.com/kata/514b92a657cdc65150000006)\n",
    "- [Conteo de positivos / suma de negativos](https://www.codewars.com/kata/count-of-positives-slash-sum-of-negatives)\n",
    "- [Categorizar nuevo miembro](https://www.codewars.com/kata/5502c9e7b3216ec63c0001aa)\n",
    "\n",
    "**Avanzado**\n",
    "- [Contador de tiempo en cola](https://www.codewars.com/kata/queue-time-counter)"
   ]
  },
  {
   "cell_type": "code",
   "execution_count": 208,
   "metadata": {},
   "outputs": [
    {
     "name": "stdout",
     "output_type": "stream",
     "text": [
      "BONUS\n",
      "1. FACIL\n",
      "1.1. Insert values\n",
      "[-1, -2, -3, -4]\n",
      "\n",
      "\n",
      "1.2. Suma cuadrado\n",
      "[1, 4, 9, 16]\n",
      "30\n",
      "[30]\n",
      "\n",
      "\n",
      "1.3. Digitalizar\n",
      "['2', '3', '9', '8', '7', '5']\n",
      "\n",
      " 239875\n",
      "['2', '3', '9', '8', '7', '5']\n",
      "['2', '3', '9', '8', '7', '5']\n",
      "\n",
      "\n",
      "1.4. Filtrado de listas\n",
      "[1, 2, 4]\n",
      "\n",
      "\n",
      "1.5. Lista aritmética\n",
      "[3, 6, 9, 12, 15, 18, 21, 24, 27, 30, 33, 36, 39, 42, 45, 48, 51, 54, 57, 60]\n"
     ]
    }
   ],
   "source": [
    "print (\"BONUS\")\n",
    "print (\"1. FACIL\")\n",
    "print (\"1.1. Insert values\") # Devolver el numero negativo de los elementos de la lista.\n",
    "values = [1,2,3,4]\n",
    "insert_values = [num * -1 for num in values]\n",
    "print (insert_values)\n",
    "print (\"\\n\")\n",
    "\n",
    "print (\"1.2. Suma cuadrado\") # Devuelve el resultado de sumar los cuadrados de cada elemento de la lista.\n",
    "square = []\n",
    "for num in values: # Primero trabajo el problema con el bucle for.\n",
    "    square.append(num**2) # Se añade el cuadrado de cada elemento de la lista (num) a la variable square.\n",
    "square_add = sum(square) # Se usa sum() para sumar los elementos de una lista.\n",
    "print (square)\n",
    "print (square_add)\n",
    "\n",
    "\n",
    "square_add2 = [sum (num**2 for num in values)] # Solución a través de comprehension.\n",
    "print (square_add2)\n",
    "\n",
    "print (\"\\n\")\n",
    "\n",
    "print (\"1.3. Digitalizar\") # Dado un numero entero, desglosar los digitos y convertirlos en los elemntos de una lista en el mismo orden.\n",
    "\n",
    "number = 239875 # Método básico\n",
    "number2 = str(number)\n",
    "number3 = list(number2)\n",
    "print (number3)\n",
    "\n",
    "print (\"\\n\", number2) # Método bucle for\n",
    "number4 = []\n",
    "for digit in number2:\n",
    "    number4.append (digit)\n",
    "print (number4)\n",
    "\n",
    "number5 = [digit for digit in number2] # Método comprehension \n",
    "print (number5)\n",
    "\n",
    "print (\"\\n\")\n",
    "\n",
    "print (\"1.4. Filtrado de listas\") # Dado una lista con enteros y cadenas, filtras las cadenas para devolver la lista solo con los enteros.\n",
    "numsstrings = [1, \"dos\", 2, \"tres\", 4, \"cinco\" ]\n",
    "nums = []\n",
    "\n",
    "nums = [index for index in numsstrings if type(index) != str] # Lee todos los elementos que se iteran y si son diferentes a una \"string\" los añade a la lista.\n",
    "\n",
    "print (nums)\n",
    "\n",
    "print (\"\\n\")\n",
    "\n",
    "print (\"1.5. Lista aritmética\") # Crear una lista con una secuencia aritmética.\n",
    "f = 0 # Valor de inicio\n",
    "c = 1*3 # Constante que genera la secuencia aritmética.\n",
    "n = 21 # Cantidad de veces que se repite la secuencia.\n",
    "arit_list = [f + i * c for i in range (1, n)] \n",
    "print (arit_list)"
   ]
  },
  {
   "cell_type": "code",
   "execution_count": null,
   "metadata": {},
   "outputs": [],
   "source": []
  }
 ],
 "metadata": {
  "kernelspec": {
   "display_name": "Python 3 (ipykernel)",
   "language": "python",
   "name": "python3"
  },
  "language_info": {
   "codemirror_mode": {
    "name": "ipython",
    "version": 3
   },
   "file_extension": ".py",
   "mimetype": "text/x-python",
   "name": "python",
   "nbconvert_exporter": "python",
   "pygments_lexer": "ipython3",
   "version": "3.12.4"
  },
  "vscode": {
   "interpreter": {
    "hash": "aee8b7b246df8f9039afb4144a1f6fd8d2ca17a180786b69acc140d282b71a49"
   }
  }
 },
 "nbformat": 4,
 "nbformat_minor": 4
}

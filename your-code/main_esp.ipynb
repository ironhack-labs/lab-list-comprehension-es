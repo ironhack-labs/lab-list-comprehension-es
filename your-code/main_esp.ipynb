{
 "cells": [
  {
   "cell_type": "markdown",
   "metadata": {},
   "source": [
    "# List Comprehensions\n",
    "\n",
    "Completa el siguiente conjunto de ejercicios para solidificar tu conocimiento sobre las comprensiones de lista."
   ]
  },
  {
   "cell_type": "code",
   "execution_count": 1,
   "metadata": {},
   "outputs": [],
   "source": [
    "import os"
   ]
  },
  {
   "cell_type": "markdown",
   "metadata": {},
   "source": [
    "#### 1. Usa una list comprehension para crear e imprimir una lista de enteros consecutivos que comience con 1 y termine con 50."
   ]
  },
  {
   "cell_type": "code",
   "execution_count": 13,
   "metadata": {},
   "outputs": [
    {
     "name": "stdout",
     "output_type": "stream",
     "text": [
      "[1, 2, 3, 4, 5, 6, 7, 8, 9, 10, 11, 12, 13, 14, 15, 16, 17, 18, 19, 20, 21, 22, 23, 24, 25, 26, 27, 28, 29, 30, 31, 32, 33, 34, 35, 36, 37, 38, 39, 40, 41, 42, 43, 44, 45, 46, 47, 48, 49, 50]\n",
      "[1, 2, 3, 4, 5, 6, 7, 8, 9, 10, 11, 12, 13, 14, 15, 16, 17, 18, 19, 20, 21, 22, 23, 24, 25, 26, 27, 28, 29, 30, 31, 32, 33, 34, 35, 36, 37, 38, 39, 40, 41, 42, 43, 44, 45, 46, 47, 48, 49, 50]\n"
     ]
    }
   ],
   "source": [
    "naturals = []\n",
    "\n",
    "for i in range(1,51) :\n",
    "    naturals.append(i)\n",
    "\n",
    "print(naturals)\n",
    "\n",
    "naturals_1 = []\n",
    "\n",
    "naturals_1 = [i for i in range(1,51)]\n",
    "\n",
    "print(naturals_1)\n"
   ]
  },
  {
   "cell_type": "markdown",
   "metadata": {},
   "source": [
    "#### 2. Usa una list comprehension para crear y imprimir una lista de numeros pares entre 2 y 200."
   ]
  },
  {
   "cell_type": "code",
   "execution_count": 23,
   "metadata": {},
   "outputs": [
    {
     "name": "stdout",
     "output_type": "stream",
     "text": [
      "[2, 4, 6, 8, 10, 12, 14, 16, 18, 20, 22, 24, 26, 28, 30, 32, 34, 36, 38, 40, 42, 44, 46, 48, 50, 52, 54, 56, 58, 60, 62, 64, 66, 68, 70, 72, 74, 76, 78, 80, 82, 84, 86, 88, 90, 92, 94, 96, 98, 100, 102, 104, 106, 108, 110, 112, 114, 116, 118, 120, 122, 124, 126, 128, 130, 132, 134, 136, 138, 140, 142, 144, 146, 148, 150, 152, 154, 156, 158, 160, 162, 164, 166, 168, 170, 172, 174, 176, 178, 180, 182, 184, 186, 188, 190, 192, 194, 196, 198, 200]\n",
      "[2, 4, 6, 8, 10, 12, 14, 16, 18, 20, 22, 24, 26, 28, 30, 32, 34, 36, 38, 40, 42, 44, 46, 48, 50, 52, 54, 56, 58, 60, 62, 64, 66, 68, 70, 72, 74, 76, 78, 80, 82, 84, 86, 88, 90, 92, 94, 96, 98, 100, 102, 104, 106, 108, 110, 112, 114, 116, 118, 120, 122, 124, 126, 128, 130, 132, 134, 136, 138, 140, 142, 144, 146, 148, 150, 152, 154, 156, 158, 160, 162, 164, 166, 168, 170, 172, 174, 176, 178, 180, 182, 184, 186, 188, 190, 192, 194, 196, 198, 200]\n"
     ]
    }
   ],
   "source": [
    "parells = []\n",
    "\n",
    "for i in range(1,201) :\n",
    "    if i % 2 == 0 :\n",
    "        parells.append(i)\n",
    "\n",
    "print(parells)\n",
    "\n",
    "parells_1 = []\n",
    "\n",
    "parells_1 = [i for i in range(1,201) if i % 2 == 0]\n",
    "\n",
    "print(parells_1)"
   ]
  },
  {
   "cell_type": "markdown",
   "metadata": {},
   "source": [
    "#### 3. Usa una comprensión de lista para crear e imprimir una lista que contenga todos los elementos del siguiente array de 10 x 4."
   ]
  },
  {
   "cell_type": "code",
   "execution_count": 29,
   "metadata": {},
   "outputs": [],
   "source": [
    "a = [[0.84062117, 0.48006452, 0.7876326 , 0.77109654],\n",
    "       [0.44409793, 0.09014516, 0.81835917, 0.87645456],\n",
    "       [0.7066597 , 0.09610873, 0.41247947, 0.57433389],\n",
    "       [0.29960807, 0.42315023, 0.34452557, 0.4751035 ],\n",
    "       [0.17003563, 0.46843998, 0.92796258, 0.69814654],\n",
    "       [0.41290051, 0.19561071, 0.16284783, 0.97016248],\n",
    "       [0.71725408, 0.87702738, 0.31244595, 0.76615487],\n",
    "       [0.20754036, 0.57871812, 0.07214068, 0.40356048],\n",
    "       [0.12149553, 0.53222417, 0.9976855 , 0.12536346],\n",
    "       [0.80930099, 0.50962849, 0.94555126, 0.33364763]];"
   ]
  },
  {
   "cell_type": "code",
   "execution_count": 45,
   "metadata": {},
   "outputs": [
    {
     "name": "stdout",
     "output_type": "stream",
     "text": [
      "[0.84062117, 0.48006452, 0.7876326, 0.77109654, 0.44409793, 0.09014516, 0.81835917, 0.87645456, 0.7066597, 0.09610873, 0.41247947, 0.57433389, 0.29960807, 0.42315023, 0.34452557, 0.4751035, 0.17003563, 0.46843998, 0.92796258, 0.69814654, 0.41290051, 0.19561071, 0.16284783, 0.97016248, 0.71725408, 0.87702738, 0.31244595, 0.76615487, 0.20754036, 0.57871812, 0.07214068, 0.40356048, 0.12149553, 0.53222417, 0.9976855, 0.12536346, 0.80930099, 0.50962849, 0.94555126, 0.33364763]\n",
      "[0.84062117, 0.48006452, 0.7876326, 0.77109654, 0.44409793, 0.09014516, 0.81835917, 0.87645456, 0.7066597, 0.09610873, 0.41247947, 0.57433389, 0.29960807, 0.42315023, 0.34452557, 0.4751035, 0.17003563, 0.46843998, 0.92796258, 0.69814654, 0.41290051, 0.19561071, 0.16284783, 0.97016248, 0.71725408, 0.87702738, 0.31244595, 0.76615487, 0.20754036, 0.57871812, 0.07214068, 0.40356048, 0.12149553, 0.53222417, 0.9976855, 0.12536346, 0.80930099, 0.50962849, 0.94555126, 0.33364763]\n"
     ]
    }
   ],
   "source": [
    "b = []\n",
    "\n",
    "for fila in a :\n",
    "    for valor in fila :\n",
    "        b.append(valor)\n",
    "\n",
    "print(b)\n",
    "\n",
    "# segon mètode:\n",
    "\n",
    "b_1 = []\n",
    "\n",
    "b_1 = [valor for fila in a for valor in fila]\n",
    "\n",
    "print(b_1)"
   ]
  },
  {
   "cell_type": "markdown",
   "metadata": {},
   "source": [
    "#### 4. Añade una condición a la comprensión de lista anterior para que solo se impriman los valores mayores o iguales a 0.5."
   ]
  },
  {
   "cell_type": "code",
   "execution_count": 47,
   "metadata": {},
   "outputs": [
    {
     "name": "stdout",
     "output_type": "stream",
     "text": [
      "[0.84062117, 0.7876326, 0.77109654, 0.81835917, 0.87645456, 0.7066597, 0.57433389, 0.92796258, 0.69814654, 0.97016248, 0.71725408, 0.87702738, 0.76615487, 0.57871812, 0.53222417, 0.9976855, 0.80930099, 0.50962849, 0.94555126]\n"
     ]
    }
   ],
   "source": [
    "b_2 = []\n",
    "\n",
    "b_2 = [valor for fila in a for valor in fila if valor >= 0.5]\n",
    "\n",
    "print(b_2)"
   ]
  },
  {
   "cell_type": "markdown",
   "metadata": {},
   "source": [
    "#### 5. Usa una comprensión de lista para crear e imprimir una lista que contenga todos los elementos del siguiente array de 5 x 2 x 3."
   ]
  },
  {
   "cell_type": "code",
   "execution_count": 7,
   "metadata": {},
   "outputs": [],
   "source": [
    "b = [[[0.55867166, 0.06210792, 0.08147297],\n",
    "        [0.82579068, 0.91512478, 0.06833034]],\n",
    "\n",
    "       [[0.05440634, 0.65857693, 0.30296619],\n",
    "        [0.06769833, 0.96031863, 0.51293743]],\n",
    "\n",
    "       [[0.09143215, 0.71893382, 0.45850679],\n",
    "        [0.58256464, 0.59005654, 0.56266457]],\n",
    "\n",
    "       [[0.71600294, 0.87392666, 0.11434044],\n",
    "        [0.8694668 , 0.65669313, 0.10708681]],\n",
    "\n",
    "       [[0.07529684, 0.46470767, 0.47984544],\n",
    "        [0.65368638, 0.14901286, 0.23760688]]];"
   ]
  },
  {
   "cell_type": "code",
   "execution_count": 9,
   "metadata": {},
   "outputs": [
    {
     "name": "stdout",
     "output_type": "stream",
     "text": [
      "[0.55867166, 0.06210792, 0.08147297, 0.82579068, 0.91512478, 0.06833034, 0.05440634, 0.65857693, 0.30296619, 0.06769833, 0.96031863, 0.51293743, 0.09143215, 0.71893382, 0.45850679, 0.58256464, 0.59005654, 0.56266457, 0.71600294, 0.87392666, 0.11434044, 0.8694668, 0.65669313, 0.10708681, 0.07529684, 0.46470767, 0.47984544, 0.65368638, 0.14901286, 0.23760688]\n",
      "[0.55867166, 0.06210792, 0.08147297, 0.82579068, 0.91512478, 0.06833034, 0.05440634, 0.65857693, 0.30296619, 0.06769833, 0.96031863, 0.51293743, 0.09143215, 0.71893382, 0.45850679, 0.58256464, 0.59005654, 0.56266457, 0.71600294, 0.87392666, 0.11434044, 0.8694668, 0.65669313, 0.10708681, 0.07529684, 0.46470767, 0.47984544, 0.65368638, 0.14901286, 0.23760688]\n"
     ]
    }
   ],
   "source": [
    "c = []\n",
    "fila_1 = 0\n",
    "valor = 0\n",
    "\n",
    "# primer mètode\n",
    "for fila in b :\n",
    "    for fila_1 in fila :\n",
    "        for valor in fila_1 :\n",
    "            c.append(valor)\n",
    "print(c)\n",
    "\n",
    "# segon mètode\n",
    "\n",
    "b_1 = []\n",
    "\n",
    "b_1 = [valor for fila in b for fila_1 in fila for valor in fila_1]\n",
    "\n",
    "print(b_1)"
   ]
  },
  {
   "cell_type": "markdown",
   "metadata": {},
   "source": [
    "#### 6. Añade una condición a la comprensión de lista anterior para que se imprima el último valor en cada subarray, pero solo si es menor o igual a 0.5."
   ]
  },
  {
   "cell_type": "code",
   "execution_count": 13,
   "metadata": {},
   "outputs": [
    {
     "name": "stdout",
     "output_type": "stream",
     "text": [
      "[0.08147297, 0.06833034, 0.30296619, 0.45850679, 0.11434044, 0.10708681, 0.47984544, 0.23760688]\n"
     ]
    }
   ],
   "source": [
    "ultims_elements_filtrats = []\n",
    "\n",
    "for sublist1 in b :\n",
    "    for sublist in sublist1 :\n",
    "        ultim_element = sublist[-1] # obtenim el darrer valor de cada subarray mitjançant un for\n",
    "        \n",
    "        if ultim_element <= 0.5 : # si l'element és menor o igual que 0,5 l'afegim a la lllista\n",
    "            ultims_elements_filtrats.append(ultim_element)\n",
    "\n",
    "print(ultims_elements_filtrats)"
   ]
  },
  {
   "cell_type": "markdown",
   "metadata": {},
   "source": [
    "### Bonus\n",
    "\n",
    "Intenta resolver estas katas usando comprensiones de listas.\n",
    "\n",
    "**Fácil**\n",
    "- [Insertar valores](https://www.codewars.com/kata/invert-values)\n",
    "- [Suma Cuadrado(n)](https://www.codewars.com/kata/square-n-sum)\n",
    "- [Digitalizar](https://www.codewars.com/kata/digitize)\n",
    "- [Filtrado de listas](https://www.codewars.com/kata/list-filtering)\n",
    "- [Lista aritmética](https://www.codewars.com/kata/541da001259d9ca85d000688)\n",
    "\n",
    "**Medio**\n",
    "- [Múltiplos de 3 o 5](https://www.codewars.com/kata/514b92a657cdc65150000006)\n",
    "- [Conteo de positivos / suma de negativos](https://www.codewars.com/kata/count-of-positives-slash-sum-of-negatives)\n",
    "- [Categorizar nuevo miembro](https://www.codewars.com/kata/5502c9e7b3216ec63c0001aa)\n",
    "\n",
    "**Avanzado**\n",
    "- [Contador de tiempo en cola](https://www.codewars.com/kata/queue-time-counter)"
   ]
  },
  {
   "cell_type": "code",
   "execution_count": 28,
   "metadata": {},
   "outputs": [
    {
     "name": "stdout",
     "output_type": "stream",
     "text": [
      "Llista original: [1, 2, 3, 4, 5] -> nova llista: [-1, -2, -3, -4, -5]\n",
      "Llista original: [-1, 2, -3, 4, -5] -> nova llista: [1, -2, 3, -4, 5]\n",
      "Llista original: [] -> nova llista: []\n"
     ]
    }
   ],
   "source": [
    "# Insertar valores\n",
    "# Given a set of numbers, return the additive inverse of each. Each positive becomes negatives, and the negatives become positives.\n",
    "# [1, 2, 3, 4, 5] --> [-1, -2, -3, -4, -5]\n",
    "# [1, -2, 3, -4, 5] --> [-1, 2, -3, 4, -5]\n",
    "# [] --> []\n",
    "# You can assume that all values are integers. Do not mutate the input array.\n",
    "\n",
    "a = [1, 2, 3, 4, 5]\n",
    "b = [-1, 2, -3, 4, -5]\n",
    "c= []\n",
    "\n",
    "new_a = []\n",
    "new_b = []\n",
    "new_c = []\n",
    "\n",
    "\n",
    "new_a = [i*(-1) for i in a]\n",
    "new_b = [i*(-1) for i in b]\n",
    "new_c = [i*(-1) for i in c]\n",
    "\n",
    "\n",
    "\n",
    "print(f\"Llista original: {a} -> nova llista: {new_a}\")\n",
    "print(f\"Llista original: {b} -> nova llista: {new_b}\")\n",
    "print(f\"Llista original: {c} -> nova llista: {new_c}\")\n"
   ]
  },
  {
   "cell_type": "code",
   "execution_count": 44,
   "metadata": {},
   "outputs": [
    {
     "name": "stdout",
     "output_type": "stream",
     "text": [
      "Llista original: [1, 2, 3, 4, 5] -> la seva suma de quadrats és: 55\n",
      "Llista original: [-1, 2, -3, 4, -5] -> la seva suma de quadrats és: 55\n",
      "Llista original: [] -> la seva suma de quadrats és: 0\n"
     ]
    }
   ],
   "source": [
    "# Complete the square sum function so that it squares each number passed into it and then sums the results together.\n",
    "\n",
    "a = [1, 2, 3, 4, 5]\n",
    "b = [-1, 2, -3, 4, -5]\n",
    "c= []\n",
    "\n",
    "sum_a = 0\n",
    "sum_b = 0\n",
    "sum_c = 0\n",
    "\n",
    "sum_a = sum(i**2 for i in a)\n",
    "sum_b = sum(i**2 for i in b)\n",
    "sum_c = sum(i**2 for i in c)\n",
    "\n",
    "print(f\"Llista original: {a} -> la seva suma de quadrats és: {sum_a}\")\n",
    "print(f\"Llista original: {b} -> la seva suma de quadrats és: {sum_b}\")\n",
    "print(f\"Llista original: {c} -> la seva suma de quadrats és: {sum_c}\")\n"
   ]
  },
  {
   "cell_type": "code",
   "execution_count": 50,
   "metadata": {},
   "outputs": [
    {
     "name": "stdin",
     "output_type": "stream",
     "text": [
      "Digues el numeret que haig de transformar en una taula:  6541321579\n"
     ]
    },
    {
     "name": "stdout",
     "output_type": "stream",
     "text": [
      "La llista feta a partir del número 6541321579 és [6, 5, 4, 1, 3, 2, 1, 5, 7, 9]\n"
     ]
    }
   ],
   "source": [
    "# Given a non-negative integer, return an array / a list of the individual digits in order.\n",
    "\n",
    "numeret = 0\n",
    "llista_digits = []\n",
    "digit = 0\n",
    "\n",
    "numeret = int(input(\"Digues el numeret que haig de transformar en una taula: \"))\n",
    "\n",
    "while numeret <0 :\n",
    "    numeret = int(input(\"Digues el numeret que haig de transformar en una taula: \"))\n",
    "\n",
    "llista_digits = [int(digit) for digit in str(numeret)]\n",
    "\n",
    "print(f\"La llista feta a partir del número {numeret} és {llista_digits}\")\n",
    "\n",
    "    "
   ]
  },
  {
   "cell_type": "code",
   "execution_count": 75,
   "metadata": {},
   "outputs": [
    {
     "name": "stdout",
     "output_type": "stream",
     "text": [
      "La llista neta a partir de la llista bruta [1, 2, 'aasf', '1', '123', 123, 1, 2, 'a', 'b', 1, 'a', 'b', 0, 15]\n",
      " és \n",
      "[1, 2, 123, 1, 2, 1, 0, 15]\n"
     ]
    }
   ],
   "source": [
    "# In this kata you will create a function that takes a list of non-negative integers and strings and returns a new list with the strings filtered out.\n",
    "\n",
    "# filter_list([1,2,'a','b']) == [1,2]\n",
    "# filter_list([1,'a','b',0,15]) == [1,0,15]\n",
    "# filter_list([1,2,'aasf','1','123',123]) == [1,2,123]\n",
    "\n",
    "llista_bruta = ([1,2,'aasf','1','123',123, 1,2,'a','b', 1,'a','b',0, 15])\n",
    "\n",
    "llista_neta = [i for i in llista_bruta if isinstance(i,int)]\n",
    "\n",
    "print(f\"La llista neta a partir de la llista bruta {llista_bruta}\\n és \\n{llista_neta}\")\n",
    "\n"
   ]
  },
  {
   "cell_type": "code",
   "execution_count": 99,
   "metadata": {},
   "outputs": [
    {
     "name": "stdin",
     "output_type": "stream",
     "text": [
      "El primer terme de la sèrie aritmètica és:  0\n",
      "La raó de la sèrie aritmètica és:  7\n",
      "El número de termes de la sèrie aritmètica és:  9\n"
     ]
    },
    {
     "name": "stdout",
     "output_type": "stream",
     "text": [
      "La sèrie demanada és: [0, 7, 14, 21, 28, 35, 42, 49, 56]\n"
     ]
    }
   ],
   "source": [
    "# In this kata, you will write an arithmetic list which is basically a list that contains consecutive terms in the sequence.\n",
    "# You will be given three parameters :\n",
    "\n",
    "# first the first term in the sequence\n",
    "# c the constant that you are going to ADD ( since it is an arithmetic sequence...)\n",
    "# l the number of terms that should be returned\n",
    "\n",
    "\n",
    "first = 0\n",
    "c = 0\n",
    "l = 0\n",
    "serie = []\n",
    "\n",
    "first = int(input(\"El primer terme de la sèrie aritmètica és: \"))\n",
    "c = int(input(\"La raó de la sèrie aritmètica és: \"))\n",
    "l = int(input(\"El número de termes de la sèrie aritmètica és: \"))\n",
    "    \n",
    "serie.append(first)\n",
    "\n",
    "while len(serie) < l :\n",
    "    first = first + c\n",
    "    serie.append(first)\n",
    "\n",
    "print(f\"La sèrie demanada és: {serie}\")"
   ]
  },
  {
   "cell_type": "code",
   "execution_count": 130,
   "metadata": {},
   "outputs": [
    {
     "name": "stdin",
     "output_type": "stream",
     "text": [
      "Introdueix el nombre màxim:  100\n"
     ]
    },
    {
     "name": "stdout",
     "output_type": "stream",
     "text": [
      "[3, 5, 6, 9, 10, 12, 15, 18, 20, 21, 24, 25, 27, 30, 33, 35, 36, 39, 40, 42, 45, 48, 50, 51, 54, 55, 57, 60, 63, 65, 66, 69, 70, 72, 75, 78, 80, 81, 84, 85, 87, 90, 93, 95, 96, 99, 100]\n",
      "La suma dels múltiples de 3 i 5 compresos entre 1 i 100 és 2418\n"
     ]
    }
   ],
   "source": [
    "# If we list all the natural numbers below 10 that are multiples of 3 or 5, we get 3, 5, 6 and 9. The sum of these multiples is 23.\n",
    "# Finish the solution so that it returns the sum of all the multiples of 3 or 5 below the number passed in.\n",
    "# Additionally, if the number is negative, return 0.\n",
    "# Note: If the number is a multiple of both 3 and 5, only count it once.\n",
    "\n",
    "n = int(input(\"Introdueix el nombre màxim: \"))\n",
    "i = 0\n",
    "llista = []\n",
    "\n",
    "if n < 0 :\n",
    "    print(\"Nombre negatiu? Zero patatero: 0\")\n",
    "\n",
    "else :\n",
    "\n",
    "    for i in range(1,n+1) :\n",
    "        if i % 15 == 0 :\n",
    "            llista.append(i)\n",
    "        elif i % 3 == 0 :\n",
    "            llista.append(i)\n",
    "        elif i % 5 == 0 :\n",
    "            llista.append(i)\n",
    "    \n",
    "    suma = sum(llista)\n",
    "    \n",
    "    print(llista)\n",
    "    \n",
    "    print(f\"La suma dels múltiples de 3 i 5 compresos entre 1 i {n} és {suma}\")"
   ]
  },
  {
   "cell_type": "code",
   "execution_count": 144,
   "metadata": {},
   "outputs": [
    {
     "name": "stdout",
     "output_type": "stream",
     "text": [
      "La llista demanada és: [10, -65]\n"
     ]
    }
   ],
   "source": [
    "# Given an array of integers.\n",
    "# Return an array, where the first element is the count of positives numbers and the second element is sum of negative numbers. 0 is neither positive nor negative.\n",
    "# If the input is an empty array or is null, return an empty array.\n",
    "# For input [1, 2, 3, 4, 5, 6, 7, 8, 9, 10, -11, -12, -13, -14, -15], you should return [10, -65]\n",
    "\n",
    "llista = [1, 2, 3, 4, 5, 6, 7, 8, 9, 10, -11, -12, -13, -14, -15]\n",
    "b = []\n",
    "i = 0\n",
    "a = 0\n",
    "\n",
    "for i in llista :\n",
    "    if i > 0 :\n",
    "        a = a + 1\n",
    "    else :\n",
    "        b.append(i)\n",
    "suma_negatius = sum(b)\n",
    "\n",
    "resultat = [a,suma_negatius]\n",
    "\n",
    "print(f\"La llista demanada és: {resultat}\")\n",
    "\n"
   ]
  },
  {
   "cell_type": "code",
   "execution_count": 158,
   "metadata": {},
   "outputs": [
    {
     "name": "stdout",
     "output_type": "stream",
     "text": [
      "['Open', 'Open', 'Senior', 'Open', 'Open', 'Senior']\n"
     ]
    }
   ],
   "source": [
    "# The Western Suburbs Croquet Club has two categories of membership, Senior and Open. They would like your help with an application form that will tell prospective members which category they will be placed.\n",
    "\n",
    "# To be a senior, a member must be at least 55 years old and have a handicap greater than 7. In this croquet club, handicaps range from -2 to +26; the better the player the lower the handicap.\n",
    "\n",
    "# Input\n",
    "# Input will consist of a list of pairs. Each pair contains information for a single potential member. Information consists of an integer for the person's age and an integer for the person's handicap.\n",
    "\n",
    "# Output\n",
    "# Output will consist of a list of string values (in Haskell and C: Open or Senior) stating whether the respective member is to be placed in the senior or open category.\n",
    "\n",
    "# input =  [[18, 20], [45, 2], [61, 12], [37, 6], [21, 21], [78, 9]]\n",
    "# output = [\"Open\", \"Open\", \"Senior\", \"Open\", \"Open\", \"Senior\"]\n",
    "\n",
    "input =  [[18, 20], [45, 2], [61, 12], [37, 6], [21, 21], [78, 9]]\n",
    "\n",
    "output = []\n",
    "i = 0\n",
    "\n",
    "for i in input :\n",
    "    if int(i[0]) > 55 :\n",
    "        output.append(\"Senior\")\n",
    "    else :\n",
    "        output.append(\"Open\")\n",
    "\n",
    "print(output)\n"
   ]
  },
  {
   "cell_type": "code",
   "execution_count": 59,
   "metadata": {},
   "outputs": [
    {
     "name": "stdout",
     "output_type": "stream",
     "text": [
      "Inicial: Cua: [2, 5, 3, 4, 6], Temps: 0, Posició: 3\n",
      "Iteració 1: Cua: [5, 3, 4, 6, 1], Temps: 1, Posició: 2\n",
      "Iteració 2: Cua: [3, 4, 6, 1, 4], Temps: 2, Posició: 1\n",
      "Iteració 3: Cua: [4, 6, 1, 4, 2], Temps: 3, Posició: 5\n",
      "Iteració 4: Cua: [6, 1, 4, 2, 3], Temps: 4, Posició: 4\n",
      "Iteració 5: Cua: [1, 4, 2, 3, 5], Temps: 5, Posició: 3\n",
      "Iteració 6: Cua: [4, 2, 3, 5], Temps: 6, Posició: 2\n",
      "Iteració 7: Cua: [2, 3, 5, 3], Temps: 7, Posició: 1\n",
      "Iteració 8: Cua: [3, 5, 3, 1], Temps: 8, Posició: 4\n",
      "Iteració 9: Cua: [5, 3, 1, 2], Temps: 9, Posició: 3\n",
      "Iteració 10: Cua: [3, 1, 2, 4], Temps: 10, Posició: 2\n",
      "Iteració 11: Cua: [1, 2, 4, 2], Temps: 11, Posició: 1\n",
      "Iteració 12: Cua: [0, 2, 4, 2], Temps: 12, Posició: 1 (ha rebut tots els tiquets)\n",
      "Temps total per obtenir els tiquets: 12\n"
     ]
    }
   ],
   "source": [
    "# You managed to send your friend to queue for tickets in your stead, but there is a catch: he will get there only if you tell him how much that is going to take. And everybody can only take one ticket at a time, then they go back in the last position of the queue if they need more (or go home if they are fine).\n",
    "# Each ticket takes one minutes to emit, the queue is well disciplined, Brit-style, and so it moves smoothly, with no waste of time.\n",
    "# You will be given an array/list/vector with all the people queuing and the initial position of your buddy, so for example, knowing that your friend is in the third position (that we will consider equal to the index, 2 (3 in COBOL): he is the guy that wants 3 tickets!) and the initial queue is [2, 5, 3, 4, 6].\n",
    "# The first dude gets his ticket and the queue goes now like this [5, 3, 4, 6, 1], then [3, 4, 6, 1, 4] and so on. In the end, our buddy will be queuing for 12 minutes, true story!\n",
    "# Build a function to compute it, resting assured that only positive integers are going to be there and you will be always given a valid index; but we also want to go to pretty popular events, so be ready for big queues with people getting plenty of tickets.\n",
    "\n",
    "\n",
    "def temps_per_comprar_tickets(cua, posicio_inicial, num_tickets) :\n",
    "    temps = 0\n",
    "    posicio = posicio_inicial  # La posició original de l'amic (tercera posició, que és l'índex 2)\n",
    "\n",
    "    print(f\"Inicial: Cua: {cua}, Temps: {temps}, Posició: {posicio + 1}\")  # Mostrem la cua (1-5) i no l'índex de la llista (0-4) perquè a la cua no hi ha posició 0, comença amb 1\n",
    "\n",
    "    # Iterem fins que l'amic hagi rebut tots els tickets que necessita.\n",
    "    while True :\n",
    "        # incrementem en una unitat el temps\n",
    "        temps += 1\n",
    "        \n",
    "        # La primera persona de la cua rep un tiquet\n",
    "        cua[0] -= 1\n",
    "        \n",
    "        # comprovem si és el seu torn i si li calen o no més tickets\n",
    "        if posicio == 0 and cua[0] == 0 :\n",
    "            print(f\"Iteració {temps}: Cua: {cua}, Temps: {temps}, Posició: {posicio + 1} (ha rebut tots els tiquets)\")\n",
    "            break\n",
    "                \n",
    "        if cua[0] > 0 : # si la persona necessita més tickets la movem al final de la cua\n",
    "            cua.append(cua.pop(0))\n",
    "        else :\n",
    "            cua.pop(0)  # si la persona ja té tots els seus tickets l'eliminem\n",
    "        \n",
    "        # actualitzem la posició de l'amic a la cua\n",
    "        if len(cua) > 0 :\n",
    "            posicio = (posicio - 1) % len(cua)\n",
    "        \n",
    "        # Mostrar l'estat actual\n",
    "        print(f\"Iteració {temps}: Cua: {cua}, Temps: {temps}, Posició: {posicio + 1}\")  # ho mostrem com una cua, no com l'índex d'una llista\n",
    "\n",
    "    return temps\n",
    "\n",
    "# Inicialitzacions\n",
    "cua = [2, 5, 3, 4, 6]  # Cua\n",
    "posicio_inicial = 2     # Posició inicial (tercera posició, que és l'índex 2)\n",
    "num_tickets = 4         # Número de tiquets que vol comprar\n",
    "\n",
    "# Calcular el temps que triga a obtenir els tiquets\n",
    "temps = temps_per_comprar_tickets(cua.copy(), posicio_inicial, num_tickets)\n",
    "\n",
    "# Imprimir el temps total\n",
    "print(f\"Temps total per obtenir els tiquets: {temps}\")  # Sortida esperada: 17"
   ]
  },
  {
   "cell_type": "code",
   "execution_count": null,
   "metadata": {},
   "outputs": [],
   "source": []
  }
 ],
 "metadata": {
  "kernelspec": {
   "display_name": "Python 3 (ipykernel)",
   "language": "python",
   "name": "python3"
  },
  "language_info": {
   "codemirror_mode": {
    "name": "ipython",
    "version": 3
   },
   "file_extension": ".py",
   "mimetype": "text/x-python",
   "name": "python",
   "nbconvert_exporter": "python",
   "pygments_lexer": "ipython3",
   "version": "3.12.4"
  },
  "vscode": {
   "interpreter": {
    "hash": "aee8b7b246df8f9039afb4144a1f6fd8d2ca17a180786b69acc140d282b71a49"
   }
  }
 },
 "nbformat": 4,
 "nbformat_minor": 4
}
